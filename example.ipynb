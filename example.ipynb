{
 "cells": [
  {
   "cell_type": "code",
   "execution_count": 3,
   "metadata": {},
   "outputs": [],
   "source": [
    "from pyecharts import options as opts\n",
    "from pyecharts.charts import Bar\n",
    "from pyecharts import options as opts\n",
    "from pyecharts.charts import Boxplot"
   ]
  },
  {
   "cell_type": "code",
   "execution_count": 4,
   "metadata": {},
   "outputs": [],
   "source": [
    "def boxpolt_base() -> Boxplot:\n",
    "    v1 = [\n",
    "        [850, 740, 900, 1070, 930, 850, 950, 980, 980, 880]\n",
    "        + [1000, 980, 930, 650, 760, 810, 1000, 1000, 960, 960],\n",
    "        [960, 940, 960, 940, 880, 800, 850, 880, 900]\n",
    "        + [840, 830, 790, 810, 880, 880, 830, 800, 790, 760, 800],\n",
    "    ]\n",
    "    v2 = [\n",
    "        [890, 810, 810, 820, 800, 770, 760, 740, 750, 760]\n",
    "        + [910, 920, 890, 860, 880, 720, 840, 850, 850, 780],\n",
    "        [890, 840, 780, 810, 760, 810, 790, 810, 820, 850, 870]\n",
    "        + [870, 810, 740, 810, 940, 950, 800, 810, 870],\n",
    "    ]\n",
    "    c = Boxplot()\n",
    "    c.add_xaxis([\"expr1\", \"expr2\"]).add_yaxis(\"A\", c.prepare_data(v1)).add_yaxis(\n",
    "        \"B\", c.prepare_data(v2)\n",
    "    ).set_global_opts(title_opts=opts.TitleOpts(title=\"BoxPlot-基本示例\"))\n",
    "    return c"
   ]
  },
  {
   "cell_type": "code",
   "execution_count": 6,
   "metadata": {},
   "outputs": [],
   "source": [
    "bar = (\n",
    "    Bar()\n",
    "    .add_xaxis([\"衬衫\", \"羊毛衫\", \"雪纺衫\", \"裤子\", \"高跟鞋\", \"袜子\"])\n",
    "    .add_yaxis(\"商家A\", [5, 20, 36, 10, 75, 90])\n",
    "    .set_global_opts(title_opts=opts.TitleOpts(title=\"主标题\", subtitle=\"副标题\"))\n",
    ")\n",
    "chart = boxpolt_base()"
   ]
  },
  {
   "cell_type": "code",
   "execution_count": 8,
   "metadata": {},
   "outputs": [],
   "source": [
    "from dashboard import Dashboard"
   ]
  },
  {
   "cell_type": "code",
   "execution_count": 10,
   "metadata": {},
   "outputs": [],
   "source": [
    "#示例化对象，需设置浏览器类型\n",
    "dashboard = Dashboard('chrome')"
   ]
  },
  {
   "cell_type": "code",
   "execution_count": 11,
   "metadata": {},
   "outputs": [],
   "source": [
    "#添加图纸1\n",
    "dashboard.add(bar)"
   ]
  },
  {
   "cell_type": "code",
   "execution_count": 12,
   "metadata": {},
   "outputs": [],
   "source": [
    "#添加图纸2\n",
    "dashboard.add(chart)"
   ]
  },
  {
   "cell_type": "code",
   "execution_count": 13,
   "metadata": {},
   "outputs": [],
   "source": [
    "#打开UI界面\n",
    "dashboard.render()"
   ]
  },
  {
   "cell_type": "code",
   "execution_count": 17,
   "metadata": {},
   "outputs": [],
   "source": [
    "#预览结果\n",
    "dashboard.preview()"
   ]
  },
  {
   "cell_type": "code",
   "execution_count": 15,
   "metadata": {},
   "outputs": [],
   "source": [
    "#设置分辨率，并刷新\n",
    "dashboard.resolution = (1920,1080)\n",
    "dashboard.render()"
   ]
  },
  {
   "cell_type": "code",
   "execution_count": 16,
   "metadata": {},
   "outputs": [],
   "source": [
    "#保存当前布局,结果保存在当前文件下的html文件夹中\n",
    "dashboard.save()"
   ]
  },
  {
   "cell_type": "code",
   "execution_count": null,
   "metadata": {},
   "outputs": [],
   "source": []
  }
 ],
 "metadata": {
  "kernelspec": {
   "display_name": "Python 3",
   "language": "python",
   "name": "python3"
  },
  "language_info": {
   "codemirror_mode": {
    "name": "ipython",
    "version": 3
   },
   "file_extension": ".py",
   "mimetype": "text/x-python",
   "name": "python",
   "nbconvert_exporter": "python",
   "pygments_lexer": "ipython3",
   "version": "3.7.2"
  }
 },
 "nbformat": 4,
 "nbformat_minor": 2
}
